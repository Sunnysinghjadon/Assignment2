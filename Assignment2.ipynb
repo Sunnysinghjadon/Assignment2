{
 "cells": [
  {
   "cell_type": "markdown",
   "id": "0331daf5-b923-4979-a32f-ddf479b95feb",
   "metadata": {},
   "source": [
    "# Q.1  Which keyword is used to create a function? Create a function to return a list of odd numbers in the range of 1 to 25."
   ]
  },
  {
   "cell_type": "code",
   "execution_count": 1,
   "id": "c97cf160-0e2a-4d64-8e0e-836438525007",
   "metadata": {},
   "outputs": [
    {
     "name": "stdout",
     "output_type": "stream",
     "text": [
      "[1, 3, 5, 7, 9, 11, 13, 15, 17, 19, 21, 23, 25]\n"
     ]
    }
   ],
   "source": [
    "# In most programming languages, the keyword used to create a function is \"def.\" \n",
    "\n",
    "def get_odd_numbers():\n",
    "    l = []\n",
    "    for i in range(1, 26):\n",
    "        if i % 2 != 0:\n",
    "            l.append(i)\n",
    "    return l\n",
    "\n",
    "result = get_odd_numbers()\n",
    "print(result)\n"
   ]
  },
  {
   "cell_type": "markdown",
   "id": "0fafb9f0-c2a4-448d-ba2c-c8a00cc449f2",
   "metadata": {},
   "source": [
    "# Q.2  Why *args and **kwargs is used in some functions? Create a function each for *args and **kwargs to demonstrate their use"
   ]
  },
  {
   "cell_type": "code",
   "execution_count": 2,
   "id": "8bbc3284-3674-45eb-958b-051fd770eae1",
   "metadata": {},
   "outputs": [
    {
     "name": "stdout",
     "output_type": "stream",
     "text": [
      "Hello World!\n"
     ]
    }
   ],
   "source": [
    "# In Python, *args and **kwargs are used as special syntax in function definitions to allow for a variable number of arguments.\n",
    "# The *args syntax allows a function to accept any number of positional arguments. These arguments are collected into a tuple within the function. It is often used when you want to pass an arbitrary number of arguments to a function without specifying them individually.\n",
    "\n",
    "def concatenate_strings(*args):\n",
    "    result = \"\"\n",
    "    for arg in args:\n",
    "        result += arg\n",
    "    return result\n",
    "\n",
    "print(concatenate_strings(\"Hello\", \" \", \"World\", \"!\"))"
   ]
  },
  {
   "cell_type": "code",
   "execution_count": 4,
   "id": "86c63029-438a-4abf-bb3c-650632e7f961",
   "metadata": {},
   "outputs": [
    {
     "name": "stdout",
     "output_type": "stream",
     "text": [
      "name: John\n",
      "age: 30\n",
      "city: New York\n",
      "title: Python Developer\n",
      "experience: 3 years\n",
      "place: jaipur\n",
      "state: Rajasthan\n"
     ]
    }
   ],
   "source": [
    "# The **kwargs syntax allows a function to accept any number of keyword arguments. These arguments are collected into a dictionary within the function. It is used when you want to pass a variable number of keyword arguments to a function.\n",
    "\n",
    "def print_details(**kwargs):\n",
    "    for key, value in kwargs.items():\n",
    "        print(key + \": \" + str(value))\n",
    "\n",
    "print_details(name=\"John\", age=30, city=\"New York\")\n",
    "print_details(title=\"Python Developer\", experience=\"3 years\")\n",
    "print_details(place=\"jaipur\" , state=\"Rajasthan\")\n"
   ]
  },
  {
   "cell_type": "markdown",
   "id": "e5d8c380-e920-430d-ab54-9896716a4d4f",
   "metadata": {},
   "source": [
    "# Q.3   What is an iterator in python? Name the method used to initialise the iterator object and the method used for iteration. Use these methods to print the first five elements of the given list [2, 4, 6, 8, 10, 12, 14, 16, 18, 20]."
   ]
  },
  {
   "cell_type": "code",
   "execution_count": 7,
   "id": "c3e3d8ef-7c3b-49c2-b9c4-5acde91cd982",
   "metadata": {},
   "outputs": [
    {
     "name": "stdout",
     "output_type": "stream",
     "text": [
      "2\n",
      "4\n",
      "6\n",
      "8\n",
      "10\n"
     ]
    }
   ],
   "source": [
    "# In Python, an iterator is an object that allows iteration over a sequence of elements. It provides a way to access the elements of a collection one by one without having to know the internal details of the collection.\n",
    "# To create an iterator object, you need to implement two methods: __iter__() and __next__(). The __iter__() method initializes the iterator object and returns itself, while the __next__() method retrieves the next element from the sequence. When there are no more elements to retrieve, the __next__() method raises the StopIteration exception.\n",
    "\n",
    "numbers = [2, 4, 6, 8, 10, 12, 14, 16, 18, 20]\n",
    "\n",
    "iterator = iter(numbers)\n",
    "\n",
    "for _ in range(5):\n",
    "    element = next(iterator)\n",
    "    print(element)\n"
   ]
  },
  {
   "cell_type": "markdown",
   "id": "128f687b-b37e-4738-b384-650136ad9e2e",
   "metadata": {},
   "source": [
    "# Q.4 What is a generator function in python? Why yield keyword is used? Give an example of a generator function."
   ]
  },
  {
   "cell_type": "code",
   "execution_count": 8,
   "id": "4fbc7713-d861-4b16-90ea-0a6acbdbb006",
   "metadata": {},
   "outputs": [
    {
     "name": "stdout",
     "output_type": "stream",
     "text": [
      "0\n",
      "2\n",
      "4\n",
      "6\n",
      "8\n",
      "10\n"
     ]
    }
   ],
   "source": [
    "# In Python, a generator function is a special type of function that returns an iterator object called a generator. It allows you to create iterators in a more concise and efficient way compared to implementing the iterator protocol manually.The key feature of a generator function is the use of the yield keyword. When a generator function is called, it doesn't execute the code immediately like a regular function. Instead, it returns a generator object that can be iterated over. Each time the generator's __next__() method is called, the function's execution resumes from where it left off, until it encounters a yield statement. The value yielded by the yield statement is returned as the next value of the iterator.\n",
    "\n",
    "def even_numbers(limit):\n",
    "    num = 0\n",
    "    while num <= limit:\n",
    "        yield num\n",
    "        num += 2\n",
    "\n",
    "generator = even_numbers(10)\n",
    "\n",
    "for number in generator:\n",
    "    print(number)\n"
   ]
  },
  {
   "cell_type": "markdown",
   "id": "7c4ec360-c018-48df-8ff5-28e09a598ba9",
   "metadata": {},
   "source": [
    "# Q.5  Create a generator function for prime numbers less than 1000. Use the next() method to print the first 20 prime numbers"
   ]
  },
  {
   "cell_type": "code",
   "execution_count": 9,
   "id": "05f2d4b2-dfee-4453-a292-c4bd8c060506",
   "metadata": {},
   "outputs": [
    {
     "name": "stdout",
     "output_type": "stream",
     "text": [
      "2\n",
      "3\n",
      "5\n",
      "7\n",
      "11\n",
      "13\n",
      "17\n",
      "19\n",
      "23\n",
      "29\n",
      "31\n",
      "37\n",
      "41\n",
      "43\n",
      "47\n",
      "53\n",
      "59\n",
      "61\n",
      "67\n",
      "71\n"
     ]
    }
   ],
   "source": [
    "def generate_primes():\n",
    "    primes = []\n",
    "    num = 2\n",
    "    while True:\n",
    "        if all(num % prime != 0 for prime in primes):\n",
    "            yield num\n",
    "            primes.append(num)\n",
    "        num += 1\n",
    "\n",
    "generator = generate_primes()\n",
    "\n",
    "for _ in range(20):\n",
    "    prime = next(generator)\n",
    "    print(prime)\n"
   ]
  },
  {
   "cell_type": "markdown",
   "id": "cff9bcdf-c511-41d4-811d-e976bd3da2fb",
   "metadata": {},
   "source": [
    "# Q.6 Write a python program to print the first 10 Fibonacci numbers using a while loop"
   ]
  },
  {
   "cell_type": "code",
   "execution_count": 10,
   "id": "774a281b-3105-40c8-a17c-513df7d1982d",
   "metadata": {},
   "outputs": [
    {
     "name": "stdout",
     "output_type": "stream",
     "text": [
      "0 1 1 2 3 5 8 13 21 34 "
     ]
    }
   ],
   "source": [
    "# Function to print the first 10 Fibonacci numbers\n",
    "def print_fibonacci():\n",
    "    num1 = 0\n",
    "    num2 = 1\n",
    "    count = 0\n",
    "\n",
    "    while count < 10:\n",
    "        print(num1, end=\" \")\n",
    "\n",
    "        # Update Fibonacci sequence\n",
    "        num3 = num1 + num2\n",
    "        num1 = num2\n",
    "        num2 = num3\n",
    "\n",
    "        count += 1\n",
    "\n",
    "# Call the function\n",
    "print_fibonacci()\n"
   ]
  },
  {
   "cell_type": "markdown",
   "id": "0a691f20-4ae7-49bf-b0a6-0f7273118d31",
   "metadata": {},
   "source": [
    "# Q.7 Write a List Comprehension to iterate through the given string: ‘pwskills’.\n",
    "\n"
   ]
  },
  {
   "cell_type": "code",
   "execution_count": 15,
   "id": "5a6d0ce8-f78b-4871-b6ba-8dc9c47254fe",
   "metadata": {},
   "outputs": [
    {
     "name": "stdout",
     "output_type": "stream",
     "text": [
      "['p', 'w', 's', 'k', 'i', 'l', 'l', 's']\n"
     ]
    }
   ],
   "source": [
    "string = 'pwskills'\n",
    "\n",
    "output = [i for i in string]\n",
    "\n",
    "print(output)"
   ]
  },
  {
   "cell_type": "markdown",
   "id": "9667db42-895e-4804-a02e-fa189795c005",
   "metadata": {},
   "source": [
    "# Q.8 Write a python program to check whether a given number is Palindrome or not using a while loop\n",
    "\n"
   ]
  },
  {
   "cell_type": "code",
   "execution_count": 19,
   "id": "cc9c1fa2-6f97-4c99-97de-c2c9ed162157",
   "metadata": {},
   "outputs": [
    {
     "name": "stdin",
     "output_type": "stream",
     "text": [
      "Enter a number:  600\n"
     ]
    },
    {
     "name": "stdout",
     "output_type": "stream",
     "text": [
      "600 is not a palindrome\n"
     ]
    }
   ],
   "source": [
    "def is_palindrome(num):\n",
    "    original_num = num\n",
    "    reversed_num = 0\n",
    "\n",
    "    while num > 0:\n",
    "        remainder = num % 10\n",
    "        reversed_num = (reversed_num * 10) + remainder\n",
    "        num //= 10\n",
    "\n",
    "    if original_num == reversed_num:\n",
    "        return True\n",
    "    else:\n",
    "        return False\n",
    "\n",
    "# Test the function\n",
    "number = int(input(\"Enter a number: \"))\n",
    "\n",
    "if is_palindrome(number):\n",
    "    print(number, \"is a palindrome\")\n",
    "else:\n",
    "    print(number, \"is not a palindrome\")\n"
   ]
  },
  {
   "cell_type": "code",
   "execution_count": null,
   "id": "ced28267-c40b-44f6-aec4-a2b6f47d798d",
   "metadata": {},
   "outputs": [],
   "source": []
  }
 ],
 "metadata": {
  "kernelspec": {
   "display_name": "Python 3 (ipykernel)",
   "language": "python",
   "name": "python3"
  },
  "language_info": {
   "codemirror_mode": {
    "name": "ipython",
    "version": 3
   },
   "file_extension": ".py",
   "mimetype": "text/x-python",
   "name": "python",
   "nbconvert_exporter": "python",
   "pygments_lexer": "ipython3",
   "version": "3.10.8"
  }
 },
 "nbformat": 4,
 "nbformat_minor": 5
}
